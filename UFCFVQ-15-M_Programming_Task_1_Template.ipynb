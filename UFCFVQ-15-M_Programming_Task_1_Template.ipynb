{
 "cells": [
  {
   "cell_type": "markdown",
   "metadata": {},
   "source": [
    "# UFCFVQ-15-M Programming for Data Science (Autumn 2021)\n",
    "# Programming Task 1\n",
    "\n",
    "## Student Id: "
   ]
  },
  {
   "cell_type": "markdown",
   "metadata": {
    "deletable": false
   },
   "source": [
    "<p style=\"color:red; font-weight:bold; font-size:xx-small\">OVERALL COURSEWORK MARK: ___%</p>"
   ]
  },
  {
   "cell_type": "markdown",
   "metadata": {
    "deletable": false
   },
   "source": [
    "### Requirement FR1 - Develop a function to find the arithmetic mean"
   ]
  },
  {
   "cell_type": "code",
   "execution_count": 1,
   "metadata": {},
   "outputs": [
    {
     "data": {
      "text/plain": [
       "15.333333333333334"
      ]
     },
     "execution_count": 1,
     "metadata": {},
     "output_type": "execute_result"
    }
   ],
   "source": [
    "#create list to test\n",
    "numbers = [6, 2, 22, 21, 24, 23, 8, 9, 5, 3, 11, 28, 14, 13, 12, 26, 29, 16, 15, 20, 25, 1, 10, 18, 27, 19, 7]\n",
    "\n",
    "#declare function\n",
    "def mean(numbers):\n",
    "    return sum(numbers) / len(numbers)\n",
    "\n",
    "mean(numbers)"
   ]
  },
  {
   "cell_type": "markdown",
   "metadata": {
    "deletable": false
   },
   "source": [
    "<p style=\"color:red; font-weight:bold; font-size:xx-small\">MARK: __%</p>\n",
    "<p style=\"color:red; font-weight:bold; font-size:xx-small\">FEEDBACK: </p>"
   ]
  },
  {
   "cell_type": "markdown",
   "metadata": {
    "deletable": false
   },
   "source": [
    "### Requirement FR2 - Develop a function to find the standard deviation"
   ]
  },
  {
   "cell_type": "code",
   "execution_count": 2,
   "metadata": {},
   "outputs": [
    {
     "data": {
      "text/plain": [
       "8.393118874676114"
      ]
     },
     "execution_count": 2,
     "metadata": {},
     "output_type": "execute_result"
    }
   ],
   "source": [
    "#THE STANDARD DEVIATION SOLVED HERE IS THE SAMPLE STANDARD DEVIATION\n",
    "\n",
    "\n",
    "#create function for Standard deviation\n",
    "def sd(numbers):\n",
    "    \n",
    "    #because I need the variance to find standard deviation, I need a function to find variance first\n",
    "    def variance(numbers):\n",
    "        \n",
    "        #the next line returns the formula to find var from the arithmetic mean found in FR1 above\n",
    "        ArithmeticMean = mean(numbers)\n",
    "        return sum((number-ArithmeticMean)**2 for number in numbers) / len(numbers)\n",
    "    \n",
    "    var = variance(numbers)\n",
    "    #after getting var, I then return the formular to get standard deviation from var\n",
    "    return (var)**0.5\n",
    "\n",
    "sd(numbers)"
   ]
  },
  {
   "cell_type": "markdown",
   "metadata": {
    "deletable": false
   },
   "source": [
    "<p style=\"color:red; font-weight:bold; font-size:xx-small\">MARK: __%</p>\n",
    "<p style=\"color:red; font-weight:bold; font-size:xx-small\">FEEDBACK: </p>"
   ]
  },
  {
   "cell_type": "markdown",
   "metadata": {
    "deletable": false
   },
   "source": [
    "### Requirement FR3 - Develop a function to find the min/max values and count "
   ]
  },
  {
   "cell_type": "code",
   "execution_count": 3,
   "metadata": {},
   "outputs": [
    {
     "data": {
      "text/plain": [
       "(1, 29, 27)"
      ]
     },
     "execution_count": 3,
     "metadata": {},
     "output_type": "execute_result"
    }
   ],
   "source": [
    "\n",
    "#define function to find min , max and count\n",
    "def minmaxcount(numbers):\n",
    "    #return values with the min, max and len functions\n",
    "    return min(numbers), max(numbers), len(numbers)\n",
    "minmaxcount(numbers)"
   ]
  },
  {
   "cell_type": "raw",
   "metadata": {},
   "source": []
  },
  {
   "cell_type": "markdown",
   "metadata": {
    "deletable": false
   },
   "source": [
    "<p style=\"color:red; font-weight:bold; font-size:xx-small\">MARK: __%</p>\n",
    "<p style=\"color:red; font-weight:bold; font-size:xx-small\">FEEDBACK: </p>"
   ]
  },
  {
   "cell_type": "markdown",
   "metadata": {
    "deletable": false
   },
   "source": [
    "### Requirement FR4 - Develop a function to find the 25th, 50th and 75th percentiles "
   ]
  },
  {
   "cell_type": "code",
   "execution_count": 4,
   "metadata": {},
   "outputs": [
    {
     "data": {
      "text/plain": [
       "(6, 13, 19)"
      ]
     },
     "execution_count": 4,
     "metadata": {},
     "output_type": "execute_result"
    }
   ],
   "source": [
    "#I USED THE \"GREATER THAN\" APPROACH TO FIND THE PERCENTILE OF THIS LIST\n",
    "\n",
    "#To find the percentile, i need to arrange list from min to max\n",
    "\n",
    "#This code idea came from https://blog.finxter.com/how-to-calculate-percentiles-in-python/\n",
    "\n",
    "# define function to find percentile\n",
    "def percentiles_25_50_75(numbers):\n",
    "\n",
    "    sorted_numbers = sorted(numbers)\n",
    "    n = len(sorted_numbers)\n",
    "    def my_percentile (sorted_numbers, percentile):\n",
    "\n",
    "        return (int(n * (percentile/100) + 0.5) - 1)\n",
    "\n",
    "\n",
    "    #find respective percentile with above function\n",
    "    twenty_fifth = my_percentile(sorted_numbers, 25)\n",
    "    fifty = my_percentile(sorted_numbers, 50)\n",
    "    seventy_fifth = my_percentile(sorted_numbers, 75)\n",
    "    \n",
    "    return twenty_fifth, fifty, seventy_fifth\n",
    "\n",
    "#print percentiles\n",
    "# print (\"25th percentile is\", twenty_fifth)\n",
    "# print (\"50th percentile is\", fifty)\n",
    "# print (\"75th percentile is\", seventy_fifth)\n",
    "\n",
    "\n",
    "\n",
    "percentiles_25_50_75(numbers)"
   ]
  },
  {
   "cell_type": "code",
   "execution_count": null,
   "metadata": {},
   "outputs": [],
   "source": []
  },
  {
   "cell_type": "markdown",
   "metadata": {
    "deletable": false
   },
   "source": [
    "<p style=\"color:red; font-weight:bold; font-size:xx-small\">MARK: __%</p>\n",
    "<p style=\"color:red; font-weight:bold; font-size:xx-small\">FEEDBACK: </p>"
   ]
  },
  {
   "cell_type": "markdown",
   "metadata": {
    "deletable": false
   },
   "source": [
    "### Requirement FR5 - Develop a function to read a single column from a CSV file"
   ]
  },
  {
   "cell_type": "code",
   "execution_count": 5,
   "metadata": {},
   "outputs": [
    {
     "data": {
      "text/plain": [
       "('Solar',\n",
       " ['0.603',\n",
       "  '0.108128528',\n",
       "  '12.081099',\n",
       "  '1.578641473',\n",
       "  '0.03926',\n",
       "  '0.299208359',\n",
       "  '0.134485968',\n",
       "  '3.971724224',\n",
       "  '3.137078404',\n",
       "  '1.103538835',\n",
       "  '0.881300118',\n",
       "  '3.5462509',\n",
       "  '5.118720829',\n",
       "  '177.5',\n",
       "  '0.011999821',\n",
       "  '0.073591668',\n",
       "  '0.19183',\n",
       "  '2.3386',\n",
       "  '0.952973',\n",
       "  '0.037991538',\n",
       "  '1.035739071',\n",
       "  '0.012679515',\n",
       "  '0.441810565',\n",
       "  '0.1622',\n",
       "  '10.15871272',\n",
       "  '46.164',\n",
       "  '3.791092002',\n",
       "  '0.000961',\n",
       "  '0.588876056',\n",
       "  '0',\n",
       "  '30.73240318',\n",
       "  '0.01836',\n",
       "  '0.037698887',\n",
       "  '0.057143443',\n",
       "  '0.022173967',\n",
       "  '1.793230515',\n",
       "  '23.23072906',\n",
       "  '71.6883359',\n",
       "  '0.1146904',\n",
       "  '0.088143148',\n",
       "  '0.001263953',\n",
       "  '0.08',\n",
       "  '0.117480937',\n",
       "  '0.022788',\n",
       "  '0.459692933',\n",
       "  '2.2428',\n",
       "  '0.9502',\n",
       "  '3.2012',\n",
       "  '0.098244292',\n",
       "  '0.064488547',\n",
       "  '0.013718674',\n",
       "  '0.585723529',\n",
       "  '0.01484375',\n",
       "  '0.697743206',\n",
       "  '3.020039802',\n",
       "  '0.111623598',\n",
       "  '0.675171297',\n",
       "  '0.128029166',\n",
       "  '2.12332226',\n",
       "  '0.745192715',\n",
       "  '1.249117',\n",
       "  '0.299',\n",
       "  '1.02',\n",
       "  '0.009423834',\n",
       "  '1.674',\n",
       "  '0.57106',\n",
       "  '0.154871783',\n",
       "  '0.283982555',\n",
       "  '0.585',\n",
       "  '0.253621',\n",
       "  '4.935234819',\n",
       "  '9.349876912',\n",
       "  '12.52057273',\n",
       "  '0.205337811',\n",
       "  '0.373100151',\n",
       "  '1.957371429',\n",
       "  '2.733',\n",
       "  '4.719656655',\n",
       "  '0.003989071',\n",
       "  '7.890694078',\n",
       "  '0.00696',\n",
       "  '1.286493457',\n",
       "  '0.9468835',\n",
       "  '12.92181535',\n",
       "  '97.11818182',\n",
       "  '0',\n",
       "  '0.010008089',\n",
       "  '0.080231508'])"
      ]
     },
     "execution_count": 5,
     "metadata": {},
     "output_type": "execute_result"
    }
   ],
   "source": [
    "#I declared csv file name and specific columns\n",
    "column_number = 1\n",
    "task1 = 'task1.csv'\n",
    "\n",
    "#Read and opened csv file)\n",
    "def read_csv(task1 , column_number ):\n",
    "    \n",
    "    data = []\n",
    "\n",
    "    with open(task1, 'r',) as csv_file:\n",
    "        for row in csv_file:\n",
    "            data.append (row.split(',')[column_number])\n",
    "    return data[0], data[1:]\n",
    "#ran the function to test\n",
    "read_csv(task1, column_number)"
   ]
  },
  {
   "cell_type": "markdown",
   "metadata": {
    "deletable": false
   },
   "source": [
    "<p style=\"color:red; font-weight:bold; font-size:xx-small\">MARK: __%</p>\n",
    "<p style=\"color:red; font-weight:bold; font-size:xx-small\">FEEDBACK: </p>"
   ]
  },
  {
   "cell_type": "markdown",
   "metadata": {
    "deletable": false
   },
   "source": [
    "### Requirement FR6 - Develop a function to read CSV data from a file into memory"
   ]
  },
  {
   "cell_type": "code",
   "execution_count": 31,
   "metadata": {},
   "outputs": [
    {
     "data": {
      "text/plain": [
       "[1.0, 3.0]"
      ]
     },
     "execution_count": 31,
     "metadata": {},
     "output_type": "execute_result"
    }
   ],
   "source": [
    "[float(a) for a in ['1','','3'] if a!='' ]"
   ]
  },
  {
   "cell_type": "code",
   "execution_count": 6,
   "metadata": {},
   "outputs": [
    {
     "data": {
      "text/plain": [
       "{'Hydropower': [0.117,\n",
       "  41.64945459,\n",
       "  17.26791,\n",
       "  37.52781287,\n",
       "  1.76795,\n",
       "  0.885632595,\n",
       "  0.45726487,\n",
       "  0.284810423,\n",
       "  387.6868063,\n",
       "  5.125584584,\n",
       "  244.839096,\n",
       "  387.2508762,\n",
       "  23.14438369,\n",
       "  1202.43,\n",
       "  56.64701407,\n",
       "  7.512550207,\n",
       "  0.0,\n",
       "  1.6272,\n",
       "  0.016454789,\n",
       "  20.69612073,\n",
       "  13.48338,\n",
       "  0.015617162,\n",
       "  38.93203591,\n",
       "  13.27777778,\n",
       "  64.2234218,\n",
       "  16.9,\n",
       "  5.720179713,\n",
       "  0.0,\n",
       "  0.221,\n",
       "  13.81099543,\n",
       "  139.6678322,\n",
       "  16.4112,\n",
       "  10.77,\n",
       "  3.1074588,\n",
       "  0.694087982,\n",
       "  0.0245,\n",
       "  45.85205715,\n",
       "  80.997,\n",
       "  10.3295118,\n",
       "  0.0,\n",
       "  2.433342329,\n",
       "  0.45,\n",
       "  0.094557415,\n",
       "  1.791368,\n",
       "  24.17649672,\n",
       "  32.39511459,\n",
       "  1.6934,\n",
       "  0.072348,\n",
       "  26.32037732,\n",
       "  138.4962175,\n",
       "  0.0,\n",
       "  62.91198244,\n",
       "  35.20305729,\n",
       "  2.255678699,\n",
       "  1.288541272,\n",
       "  0.0165,\n",
       "  69.46684307,\n",
       "  1.852952842,\n",
       "  35.99700727,\n",
       "  30.76868807,\n",
       "  9.383758,\n",
       "  1.971,\n",
       "  12.346,\n",
       "  0.0,\n",
       "  17.56396055,\n",
       "  190.21311,\n",
       "  0.0,\n",
       "  0.0,\n",
       "  3.591,\n",
       "  4.712487886,\n",
       "  0.914864856,\n",
       "  2.920390756,\n",
       "  35.19825724,\n",
       "  6.369370161,\n",
       "  61.91687566,\n",
       "  34.80394017,\n",
       "  4.4661,\n",
       "  7.597013,\n",
       "  0.0,\n",
       "  59.51828075,\n",
       "  0.0,\n",
       "  9.900734781,\n",
       "  0.0,\n",
       "  5.464660531,\n",
       "  288.7063404,\n",
       "  6.868202,\n",
       "  72.08394993,\n",
       "  80.70625435],\n",
       " 'Solar': [0.603,\n",
       "  0.108128528,\n",
       "  12.081099,\n",
       "  1.578641473,\n",
       "  0.03926,\n",
       "  0.299208359,\n",
       "  0.134485968,\n",
       "  3.971724224,\n",
       "  3.137078404,\n",
       "  1.103538835,\n",
       "  0.881300118,\n",
       "  3.5462509,\n",
       "  5.118720829,\n",
       "  177.5,\n",
       "  0.011999821,\n",
       "  0.073591668,\n",
       "  0.19183,\n",
       "  2.3386,\n",
       "  0.952973,\n",
       "  0.037991538,\n",
       "  1.035739071,\n",
       "  0.012679515,\n",
       "  0.441810565,\n",
       "  0.1622,\n",
       "  10.15871272,\n",
       "  46.164,\n",
       "  3.791092002,\n",
       "  0.000961,\n",
       "  0.588876056,\n",
       "  0.0,\n",
       "  30.73240318,\n",
       "  0.01836,\n",
       "  0.037698887,\n",
       "  0.057143443,\n",
       "  0.022173967,\n",
       "  1.793230515,\n",
       "  23.23072906,\n",
       "  71.6883359,\n",
       "  0.1146904,\n",
       "  0.088143148,\n",
       "  0.001263953,\n",
       "  0.08,\n",
       "  0.117480937,\n",
       "  0.022788,\n",
       "  0.459692933,\n",
       "  2.2428,\n",
       "  0.9502,\n",
       "  3.2012,\n",
       "  0.098244292,\n",
       "  0.064488547,\n",
       "  0.013718674,\n",
       "  0.585723529,\n",
       "  0.01484375,\n",
       "  0.697743206,\n",
       "  3.020039802,\n",
       "  0.111623598,\n",
       "  0.675171297,\n",
       "  0.128029166,\n",
       "  2.12332226,\n",
       "  0.745192715,\n",
       "  1.249117,\n",
       "  0.299,\n",
       "  1.02,\n",
       "  0.009423834,\n",
       "  1.674,\n",
       "  0.57106,\n",
       "  0.154871783,\n",
       "  0.283982555,\n",
       "  0.585,\n",
       "  0.253621,\n",
       "  4.935234819,\n",
       "  9.349876912,\n",
       "  12.52057273,\n",
       "  0.205337811,\n",
       "  0.373100151,\n",
       "  1.957371429,\n",
       "  2.733,\n",
       "  4.719656655,\n",
       "  0.003989071,\n",
       "  7.890694078,\n",
       "  0.00696,\n",
       "  1.286493457,\n",
       "  0.9468835,\n",
       "  12.92181535,\n",
       "  97.11818182,\n",
       "  0.0,\n",
       "  0.010008089,\n",
       "  0.080231508],\n",
       " 'Wind': [0.01,\n",
       "  1.412699784,\n",
       "  16.266484,\n",
       "  5.900014713,\n",
       "  0.0822,\n",
       "  0.005086066,\n",
       "  0.117978175,\n",
       "  7.468573702,\n",
       "  48.47990705,\n",
       "  1.378292235,\n",
       "  0.977082975,\n",
       "  32.17005152,\n",
       "  3.688710149,\n",
       "  366.0,\n",
       "  0.043437355,\n",
       "  1.379085419,\n",
       "  0.22061,\n",
       "  0.6093,\n",
       "  13.89880328,\n",
       "  0.080257771,\n",
       "  2.438966811,\n",
       "  0.633888557,\n",
       "  0.531134615,\n",
       "  5.857,\n",
       "  28.16738103,\n",
       "  111.59,\n",
       "  6.300269103,\n",
       "  0.000825,\n",
       "  0.608,\n",
       "  0.004365699,\n",
       "  60.31116,\n",
       "  0.198,\n",
       "  0.361973742,\n",
       "  0.0,\n",
       "  8.390989769,\n",
       "  0.105269485,\n",
       "  17.47251773,\n",
       "  6.789652,\n",
       "  0.5412648,\n",
       "  0.017452186,\n",
       "  0.123287671,\n",
       "  1.145,\n",
       "  0.307147387,\n",
       "  0.097338,\n",
       "  0.0,\n",
       "  12.62920683,\n",
       "  3.8407,\n",
       "  10.549225,\n",
       "  2.046003874,\n",
       "  3.875881,\n",
       "  0.0,\n",
       "  0.497064956,\n",
       "  0.0079,\n",
       "  1.428156269,\n",
       "  0.574940541,\n",
       "  0.453,\n",
       "  4.80031359,\n",
       "  0.0,\n",
       "  1.72268087,\n",
       "  1.493633864,\n",
       "  1.152924,\n",
       "  12.845,\n",
       "  12.657,\n",
       "  0.0,\n",
       "  6.497,\n",
       "  0.22774,\n",
       "  0.0,\n",
       "  0.0,\n",
       "  0.005,\n",
       "  0.006159,\n",
       "  6.894765181,\n",
       "  2.40369047,\n",
       "  50.83600814,\n",
       "  0.305662189,\n",
       "  16.81339144,\n",
       "  0.133,\n",
       "  1.6794,\n",
       "  0.76415852,\n",
       "  0.0,\n",
       "  19.825697,\n",
       "  0.0,\n",
       "  1.1274,\n",
       "  0.00075,\n",
       "  57.11571962,\n",
       "  277.7291061,\n",
       "  0.0,\n",
       "  0.0,\n",
       "  0.326664064],\n",
       " 'Other': [0.0,\n",
       "  2.29693941,\n",
       "  3.539346,\n",
       "  4.763252129,\n",
       "  0.0811,\n",
       "  0.008019927,\n",
       "  0.109149431,\n",
       "  5.427544126,\n",
       "  52.88998503,\n",
       "  0.496261903,\n",
       "  0.679177831,\n",
       "  9.588635536,\n",
       "  6.737367486,\n",
       "  90.72346175,\n",
       "  2.088838157,\n",
       "  0.682716361,\n",
       "  0.05136,\n",
       "  4.7285,\n",
       "  6.119796142,\n",
       "  0.427967651,\n",
       "  0.0,\n",
       "  1.369850244,\n",
       "  0.23331662,\n",
       "  12.86168421,\n",
       "  8.521197318,\n",
       "  51.437,\n",
       "  0.298303335,\n",
       "  0.100724044,\n",
       "  2.371182482,\n",
       "  6.009414916,\n",
       "  30.45869682,\n",
       "  14.5368,\n",
       "  0.021740437,\n",
       "  0.0,\n",
       "  1.242427268,\n",
       "  0.115,\n",
       "  25.31219835,\n",
       "  33.6554308,\n",
       "  0.0024284,\n",
       "  0.0,\n",
       "  0.962146042,\n",
       "  0.47,\n",
       "  0.226101964,\n",
       "  0.05405,\n",
       "  1.004339878,\n",
       "  6.480283932,\n",
       "  0.0,\n",
       "  4.875860296,\n",
       "  8.320907599,\n",
       "  0.178266653,\n",
       "  0.0,\n",
       "  0.163131005,\n",
       "  0.022,\n",
       "  1.39699069,\n",
       "  0.0041,\n",
       "  2.647315578,\n",
       "  0.222533905,\n",
       "  1.667658529,\n",
       "  0.674414968,\n",
       "  11.540128,\n",
       "  6.331,\n",
       "  3.439,\n",
       "  0.114486339,\n",
       "  0.4617102,\n",
       "  0.4645,\n",
       "  0.0,\n",
       "  0.903,\n",
       "  1.419478261,\n",
       "  0.28827567,\n",
       "  0.530431005,\n",
       "  10.1747942,\n",
       "  7.378921565,\n",
       "  0.11339364,\n",
       "  11.85871366,\n",
       "  1.974071402,\n",
       "  2.01435,\n",
       "  12.31650175,\n",
       "  0.0,\n",
       "  9.983786807,\n",
       "  0.0,\n",
       "  0.218506543,\n",
       "  0.005983607,\n",
       "  35.58660245,\n",
       "  83.67703684,\n",
       "  0.0,\n",
       "  0.0,\n",
       "  0.060833333]}"
      ]
     },
     "execution_count": 6,
     "metadata": {},
     "output_type": "execute_result"
    }
   ],
   "source": [
    "# add code here\n",
    "def read_csv_in_memory(task1):\n",
    "    \n",
    "    csv_data_in_memory = []\n",
    "    with open(task1,'r') as file:\n",
    "        for row in file:\n",
    "            row = row.strip('\\n')\n",
    "            rows = row.split(',')\n",
    "            csv_data_in_memory.append(rows)\n",
    "    file.close()\n",
    "\n",
    "    csv_memory = {}\n",
    "    for index, value in enumerate(csv_data_in_memory[0]):\n",
    "        csv_memory[value] = [float(x[index]) for x in csv_data_in_memory[1:] if x[index]!='']\n",
    "        \n",
    "    return csv_memory\n",
    "\n",
    "read_csv_in_memory('task1.csv')"
   ]
  },
  {
   "cell_type": "markdown",
   "metadata": {
    "deletable": false
   },
   "source": [
    "<p style=\"color:red; font-weight:bold; font-size:xx-small\">MARK: __%</p>\n",
    "<p style=\"color:red; font-weight:bold; font-size:xx-small\">FEEDBACK: </p>"
   ]
  },
  {
   "cell_type": "markdown",
   "metadata": {
    "deletable": false
   },
   "source": [
    "### Requirement FR7 - Develop a function to generate a set of statistics for a given data file"
   ]
  },
  {
   "cell_type": "code",
   "execution_count": 7,
   "metadata": {},
   "outputs": [
    {
     "data": {
      "text/plain": [
       "{'Statistics': ['Count',\n",
       "  'Mean',\n",
       "  'Stdev',\n",
       "  'Min',\n",
       "  '25th',\n",
       "  '50th',\n",
       "  '75th',\n",
       "  'Max'],\n",
       " 'Hydropower': [88,\n",
       "  48.821284107874995,\n",
       "  143.61156541119564,\n",
       "  0.0,\n",
       "  21,\n",
       "  43,\n",
       "  65,\n",
       "  1202.43],\n",
       " 'Solar': [88, 6.617743776193181, 23.050166228825766, 0.0, 21, 43, 65, 177.5],\n",
       " 'Wind': [88, 14.380072730647731, 50.17237934719127, 0.0, 21, 43, 65, 366.0],\n",
       " 'Other': [87,\n",
       "  7.013935866954023,\n",
       "  15.911752479774876,\n",
       "  0.0,\n",
       "  21,\n",
       "  43,\n",
       "  64,\n",
       "  90.72346175]}"
      ]
     },
     "execution_count": 7,
     "metadata": {},
     "output_type": "execute_result"
    }
   ],
   "source": [
    "# add code here\n",
    "\n",
    "#declare functions\n",
    "def stats (csv_memory):\n",
    "\n",
    "#     read_data = read_csv_in_memory('task1.csv')\n",
    "    #create statistics  dictionary\n",
    "    statistics = {\"Statistics\": [\"Count\",\"Mean\",\"Stdev\",\"Min\",\"25th\",\"50th\",\"75th\",\"Max\"]}\n",
    "    \n",
    "#     column_count = 0`\n",
    "#read and append statistics into dictionary\n",
    "    for column_name in csv_memory:\n",
    "        update = []\n",
    "        update.append(minmaxcount(csv_memory[column_name])[-1])\n",
    "        update.append(mean(csv_memory[column_name]))\n",
    "        update.append(sd(csv_memory[column_name]))\n",
    "        update.append(minmaxcount(csv_memory[column_name])[0])\n",
    "        update.append(percentiles_25_50_75(csv_memory[column_name])[0])\n",
    "        update.append(percentiles_25_50_75(csv_memory[column_name])[1])\n",
    "        update.append(percentiles_25_50_75(csv_memory[column_name])[2])\n",
    "        update.append(minmaxcount(csv_memory[column_name])[1])\n",
    "        \n",
    "        statistics[column_name] = update\n",
    "        \n",
    "    \n",
    "    return statistics\n",
    "\n",
    "stats(read_csv_in_memory('task1.csv'))"
   ]
  },
  {
   "cell_type": "markdown",
   "metadata": {
    "deletable": false
   },
   "source": [
    "<p style=\"color:red; font-weight:bold; font-size:xx-small\">MARK: __%</p>\n",
    "<p style=\"color:red; font-weight:bold; font-size:xx-small\">FEEDBACK: </p>"
   ]
  },
  {
   "cell_type": "markdown",
   "metadata": {
    "deletable": false
   },
   "source": [
    "### Requirement FR8 - Develop a function to print a custom table"
   ]
  },
  {
   "cell_type": "code",
   "execution_count": 47,
   "metadata": {},
   "outputs": [
    {
     "name": "stdout",
     "output_type": "stream",
     "text": [
      "          *********************************************************************************************\n",
      "*         *  Hydropower          *  Solar               *  Wind                *  Other               *  \n",
      "          *********************************************************************************************\n",
      "*  Count  *  88                  *  88                  *  88                  *  87                  *  \n",
      "*  Mean   *  48.821284107874995  *  6.617743776193181   *  14.380072730647731  *  7.013935866954023   *  \n",
      "*  Stdev  *  143.61156541119564  *  23.050166228825766  *  50.17237934719127   *  15.911752479774876  *  \n",
      "*  Min    *  0.0                 *  0.0                 *  0.0                 *  0.0                 *  \n",
      "*  25th   *  21                  *  21                  *  21                  *  21                  *  \n",
      "*  50th   *  43                  *  43                  *  43                  *  43                  *  \n",
      "*  75th   *  65                  *  65                  *  65                  *  64                  *  \n",
      "*  Max    *  1202.43             *  177.5               *  366.0               *  90.72346175         *  \n",
      "*******************************************************************************************************\n"
     ]
    }
   ],
   "source": [
    "# add code here\n",
    "\n",
    "def custom_table(statistics, border='*'):\n",
    "    \n",
    "    new_dict=statistics\n",
    "    \n",
    "    header = list(new_dict.keys()); header.remove('Statistics'); header.insert(0,'')\n",
    "    table = [[new_dict[i][j] for i in new_dict.keys()] for j in range(8)]; table.insert(0,header)\n",
    "    \n",
    "    longest_cols = [\n",
    "        (max([len(str(row[i])) for row in table]))\n",
    "        for i in range(len(table[0]))\n",
    "    ]\n",
    "    row_format = border + \"  \" + \"\".join([\"{:<\" + str(longest_col) + \"}\" + \"  \" + border+ \"  \" for longest_col in longest_cols])\n",
    "    \n",
    "#     print(longest_cols)\n",
    "#     print(row_format)\n",
    "    \n",
    "    print(' '*10 + border * (-4+ sum(longest_cols)+5*(len(header)-1)))\n",
    "    print(row_format.format(*header))\n",
    "    print(' '*10 + border * (-4+ sum(longest_cols)+5*(len(header)-1)))\n",
    "    \n",
    "    \n",
    "    \n",
    "    for row in table[1:]:\n",
    "        print(row_format.format(*row))\n",
    "    \n",
    "    print( border   +  border * (sum(longest_cols)+5*(len(header))))\n",
    "\n",
    "custom_table(stats(read_csv_in_memory('task1.csv')))"
   ]
  },
  {
   "cell_type": "markdown",
   "metadata": {
    "deletable": false
   },
   "source": [
    "<p style=\"color:red; font-weight:bold; font-size:xx-small\">MARK: __%</p>\n",
    "<p style=\"color:red; font-weight:bold; font-size:xx-small\">FEEDBACK: </p>"
   ]
  },
  {
   "cell_type": "markdown",
   "metadata": {
    "deletable": false
   },
   "source": [
    "# Coding Standards\n",
    "<p style=\"color:red; font-weight:bold; font-size:xx-small\">MARK: __%</p>\n",
    "<p style=\"color:red; font-weight:bold; font-size:xx-small\">FEEDBACK: </p>"
   ]
  },
  {
   "cell_type": "markdown",
   "metadata": {
    "deletable": false
   },
   "source": [
    "# Process Development Report for Task 1\n"
   ]
  },
  {
   "cell_type": "markdown",
   "metadata": {},
   "source": [
    "For most of this task, I made use of coding procedures and instructions from GeeksforGeeks(https://www.geeksforgeeks.org/python-programming-language/?ref=shm), W3schools (https://www.w3schools.com/python/default.asp) and https://blog.finxter.com/how-to-calculate-percentiles-in-python/ (for FR4 only). \n",
    "\n",
    "FR1, FR2 and FR3 didn't prove too much difficulty and I was able to solve those without input from online resources .\n",
    "\n",
    "https://blog.finxter.com/how-to-calculate-percentiles-in-python/  served as a reference in solving FR4. This resource gave me the idea of how to solve FR4, inlucding the formula. Most importantly,  I learned I needed to sort my list before passing a function to get the 25th, 50th and 75th percentiles!\n",
    "\n",
    "For FR5 and FR6, I made use of coding structures and similar functions from both W3Schools and GeeksforGeeks mentioned above in coming up with my solution.\n",
    "\n",
    "Generally, this task would've been easier if we were allowed to import libraries like CSV, math,Pandas and numpy. These Pyhton libraries already provide inbuilt functions to sort each part of this task. They would've made my codes shorter.\n",
    "\n",
    "Solving this task without use of libraries was quite challenging, but also sharpened my python skills and I learned how to search the internet for solutions and resources.I also learned proper commenting of my codes, making my codes neat and readable to someone else.  These are very important skills needed even in the professional world"
   ]
  },
  {
   "cell_type": "markdown",
   "metadata": {
    "deletable": false
   },
   "source": [
    "<p style=\"color:red; font-weight:bold; font-size:xx-small\">MARK: __%</p>\n",
    "<p style=\"color:red; font-weight:bold; font-size:xx-small\">FEEDBACK: </p>"
   ]
  }
 ],
 "metadata": {
  "kernelspec": {
   "display_name": "Python 3",
   "language": "python",
   "name": "python3"
  },
  "language_info": {
   "codemirror_mode": {
    "name": "ipython",
    "version": 3
   },
   "file_extension": ".py",
   "mimetype": "text/x-python",
   "name": "python",
   "nbconvert_exporter": "python",
   "pygments_lexer": "ipython3",
   "version": "3.8.8"
  }
 },
 "nbformat": 4,
 "nbformat_minor": 4
}
